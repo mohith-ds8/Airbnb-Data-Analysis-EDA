{
  "nbformat": 4,
  "nbformat_minor": 0,
  "metadata": {
    "colab": {
      "provenance": [],
      "authorship_tag": "ABX9TyPeKN/z1OzoktwEiV23fgRu",
      "include_colab_link": true
    },
    "kernelspec": {
      "name": "python3",
      "display_name": "Python 3"
    },
    "language_info": {
      "name": "python"
    }
  },
  "cells": [
    {
      "cell_type": "markdown",
      "metadata": {
        "id": "view-in-github",
        "colab_type": "text"
      },
      "source": [
        "<a href=\"https://colab.research.google.com/github/mohith-ds8/Airbnb-Data-Analysis-EDA/blob/main/Python_practice_problems.ipynb\" target=\"_parent\"><img src=\"https://colab.research.google.com/assets/colab-badge.svg\" alt=\"Open In Colab\"/></a>"
      ]
    },
    {
      "cell_type": "code",
      "execution_count": null,
      "metadata": {
        "id": "HIo0Orb5IfwX"
      },
      "outputs": [],
      "source": [
        "# program to add 3 nos\n",
        "\n",
        "a=2\n",
        "b=5\n",
        "c=6\n",
        "\n",
        "sum=a+b+c\n",
        "print(sum)"
      ]
    },
    {
      "cell_type": "code",
      "source": [
        "def division(num1,num2):\n",
        "  '''\n",
        "  A function to divide 2 numbers\n",
        "  '''\n",
        "  return (num1/num2)"
      ],
      "metadata": {
        "id": "Ylc7vZuKIvX3"
      },
      "execution_count": null,
      "outputs": []
    },
    {
      "cell_type": "code",
      "source": [
        "try:\n",
        "\n",
        "  division(2,3)\n",
        "\n",
        "except:\n",
        "  print(\"Something went wrong\")"
      ],
      "metadata": {
        "id": "XJH0QTwGKb5u"
      },
      "execution_count": null,
      "outputs": []
    }
  ]
}