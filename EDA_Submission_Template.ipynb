{
  "nbformat": 4,
  "nbformat_minor": 0,
  "metadata": {
    "colab": {
      "private_outputs": true,
      "provenance": [],
      "collapsed_sections": [
        "vncDsAP0Gaoa",
        "FJNUwmbgGyua",
        "w6K7xa23Elo4",
        "mDgbUHAGgjLW",
        "HhfV-JJviCcP",
        "Y3lxredqlCYt",
        "3RnN4peoiCZX",
        "7hBIi_osiCS2",
        "JlHwYmJAmNHm",
        "35m5QtbWiB9F",
        "PoPl-ycgm1ru",
        "H0kj-8xxnORC",
        "nA9Y7ga8ng1Z",
        "PBTbrJXOngz2",
        "u3PMJOP6ngxN",
        "dauF4eBmngu3",
        "sriLlRWMBr7K",
        "GGwrlfNtFiFk",
        "gCFgpxoyphqP",
        "OVtJsKN_phqQ",
        "lssrdh5qphqQ",
        "UV0SzAkaZNRQ",
        "YPEH6qLeZNRQ",
        "q29F0dvdveiT",
        "gCX9965dhzqZ",
        "gIfDvo9L0UH2"
      ],
      "include_colab_link": true
    },
    "kernelspec": {
      "name": "python3",
      "display_name": "Python 3"
    },
    "language_info": {
      "name": "python"
    }
  },
  "cells": [
    {
      "cell_type": "markdown",
      "metadata": {
        "id": "view-in-github",
        "colab_type": "text"
      },
      "source": [
        "<a href=\"https://colab.research.google.com/github/mohith-ds8/Airbnb-Data-Analysis-EDA/blob/main/EDA_Submission_Template.ipynb\" target=\"_parent\"><img src=\"https://colab.research.google.com/assets/colab-badge.svg\" alt=\"Open In Colab\"/></a>"
      ]
    },
    {
      "cell_type": "markdown",
      "source": [
        "# **Project Name**    - EDA on Airbnb Listings in NYC \n",
        "\n"
      ],
      "metadata": {
        "id": "vncDsAP0Gaoa"
      }
    },
    {
      "cell_type": "markdown",
      "source": [
        "##### **Project Type**    - EDA\n",
        "##### **Contribution**    - Individual\n",
        "##### **Name** - Mohith\n",
        "##### **Cohort** - Enlighten"
      ],
      "metadata": {
        "id": "beRrZCGUAJYm"
      }
    },
    {
      "cell_type": "markdown",
      "source": [
        "# **Project Summary -**"
      ],
      "metadata": {
        "id": "FJNUwmbgGyua"
      }
    },
    {
      "cell_type": "markdown",
      "source": [
        "Write the summary here within 500-600 words."
      ],
      "metadata": {
        "id": "F6v_1wHtG2nS"
      }
    },
    {
      "cell_type": "markdown",
      "source": [
        "# **GitHub Link -** done"
      ],
      "metadata": {
        "id": "w6K7xa23Elo4"
      }
    },
    {
      "cell_type": "markdown",
      "source": [
        "https://github.com/mohith-ds8/Airbnb-Data-Analysis-EDA"
      ],
      "metadata": {
        "id": "h1o69JH3Eqqn"
      }
    },
    {
      "cell_type": "markdown",
      "source": [
        "# **Problem Statement** done\n"
      ],
      "metadata": {
        "id": "yQaldy8SH6Dl"
      }
    },
    {
      "cell_type": "markdown",
      "source": [
        "\n",
        "1. **How many Airbnb units are there in each neighbourhood group?**\n",
        "2. **How much does a unit cost in each neighbourhood group by average?**\n",
        "3. **What are the top 10 neighbourhoods by unit count?**\n",
        "4. **What are the top 10 cheapest neighbourhoods?**\n",
        "5. **Which room type dominates in each neighbourhood?**\n",
        "6. **Who are the top 10 hosts in NYC?**\n",
        "7. **How does price affect the availability of the unit 365 days a year?**\n",
        "8. **How does price affect the number of reviews?**\n",
        "9. **What is the minimum number of nights hosts prefer the most?**\n",
        "\n"
      ],
      "metadata": {
        "id": "DpeJGUA3kjGy"
      }
    },
    {
      "cell_type": "markdown",
      "source": [
        "#### **Define Your Business Objective?**"
      ],
      "metadata": {
        "id": "PH-0ReGfmX4f"
      }
    },
    {
      "cell_type": "markdown",
      "source": [
        "## Till date, Airbnb does not own a single piece of real estate, yet they cloaked in a revenue of $6 Billion in 2021. Now, they want to enter the hotel business starting with their first hotel New York City.\n",
        "\n",
        "## Therefore, we are to do a detailed Exploratory Data Analysis on existing Airbnb units to provide the management with options which is both economical and profitable at the same time."
      ],
      "metadata": {
        "id": "PhDvGCAqmjP1"
      }
    },
    {
      "cell_type": "markdown",
      "source": [
        "# **General Guidelines** : -  "
      ],
      "metadata": {
        "id": "mDgbUHAGgjLW"
      }
    },
    {
      "cell_type": "markdown",
      "source": [
        "1.   Well-structured, formatted, and commented code is required. \n",
        "2.   Exception Handling, Production Grade Code & Deployment Ready Code will be a plus. Those students will be awarded some additional credits. \n",
        "     \n",
        "     The additional credits will have advantages over other students during Star Student selection.\n",
        "       \n",
        "             [ Note: - Deployment Ready Code is defined as, the whole .ipynb notebook should be executable in one go\n",
        "                       without a single error logged. ]\n",
        "\n",
        "3.   Each and every logic should have proper comments.\n",
        "4. You may add as many number of charts you want. Make Sure for each and every chart the following format should be answered.\n",
        "        \n",
        "\n",
        "```\n",
        "# Chart visualization code\n",
        "```\n",
        "            \n",
        "\n",
        "*   Why did you pick the specific chart?\n",
        "*   What is/are the insight(s) found from the chart?\n",
        "* Will the gained insights help creating a positive business impact? \n",
        "Are there any insights that lead to negative growth? Justify with specific reason.\n",
        "\n",
        "5. You have to create at least 20 logical & meaningful charts having important insights.\n",
        "\n",
        "\n",
        "[ Hints : - Do the Vizualization in  a structured way while following \"UBM\" Rule. \n",
        "\n",
        "U - Univariate Analysis,\n",
        "\n",
        "B - Bivariate Analysis (Numerical - Categorical, Numerical - Numerical, Categorical - Categorical)\n",
        "\n",
        "M - Multivariate Analysis\n",
        " ]\n",
        "\n",
        "\n",
        "\n"
      ],
      "metadata": {
        "id": "ZrxVaUj-hHfC"
      }
    },
    {
      "cell_type": "markdown",
      "source": [
        "# ***Let's Begin !***"
      ],
      "metadata": {
        "id": "O_i_v8NEhb9l"
      }
    },
    {
      "cell_type": "markdown",
      "source": [
        "## ***1. Know Your Data*** done"
      ],
      "metadata": {
        "id": "HhfV-JJviCcP"
      }
    },
    {
      "cell_type": "markdown",
      "source": [
        "### Import Libraries"
      ],
      "metadata": {
        "id": "Y3lxredqlCYt"
      }
    },
    {
      "cell_type": "code",
      "source": [
        "# Import Libraries\n",
        "\n",
        "import numpy as np\n",
        "import pandas as pd\n",
        "\n",
        "import matplotlib.pyplot as plt\n",
        "import seaborn as sns"
      ],
      "metadata": {
        "id": "M8Vqi-pPk-HR"
      },
      "execution_count": null,
      "outputs": []
    },
    {
      "cell_type": "markdown",
      "source": [
        "### Dataset Loading"
      ],
      "metadata": {
        "id": "3RnN4peoiCZX"
      }
    },
    {
      "cell_type": "code",
      "source": [
        "# Load Dataset\n",
        "df = pd.read_csv('/content/Airbnb NYC 2019.csv')"
      ],
      "metadata": {
        "id": "4CkvbW_SlZ_R"
      },
      "execution_count": null,
      "outputs": []
    },
    {
      "cell_type": "markdown",
      "source": [
        "### Dataset First View"
      ],
      "metadata": {
        "id": "x71ZqKXriCWQ"
      }
    },
    {
      "cell_type": "code",
      "source": [
        "# Dataset First Look\n",
        "df.head()"
      ],
      "metadata": {
        "id": "LWNFOSvLl09H"
      },
      "execution_count": null,
      "outputs": []
    },
    {
      "cell_type": "markdown",
      "source": [
        "### Dataset Rows & Columns count"
      ],
      "metadata": {
        "id": "7hBIi_osiCS2"
      }
    },
    {
      "cell_type": "code",
      "source": [
        "# Dataset Rows & Columns count\n",
        "df.shape"
      ],
      "metadata": {
        "id": "Kllu7SJgmLij"
      },
      "execution_count": null,
      "outputs": []
    },
    {
      "cell_type": "markdown",
      "source": [
        "### Dataset Information"
      ],
      "metadata": {
        "id": "JlHwYmJAmNHm"
      }
    },
    {
      "cell_type": "code",
      "source": [
        "# Dataset Info\n",
        "df.info()"
      ],
      "metadata": {
        "id": "e9hRXRi6meOf"
      },
      "execution_count": null,
      "outputs": []
    },
    {
      "cell_type": "markdown",
      "source": [
        "#### Duplicate Values"
      ],
      "metadata": {
        "id": "35m5QtbWiB9F"
      }
    },
    {
      "cell_type": "code",
      "source": [
        "# Dataset Duplicate Value Count\n",
        "df[df.duplicated()]"
      ],
      "metadata": {
        "id": "1sLdpKYkmox0"
      },
      "execution_count": null,
      "outputs": []
    },
    {
      "cell_type": "markdown",
      "source": [
        "#### Missing Values/Null Values"
      ],
      "metadata": {
        "id": "PoPl-ycgm1ru"
      }
    },
    {
      "cell_type": "code",
      "source": [
        "# Missing Values/Null Values Count\n",
        "df.isnull().sum()"
      ],
      "metadata": {
        "id": "GgHWkxvamxVg"
      },
      "execution_count": null,
      "outputs": []
    },
    {
      "cell_type": "code",
      "source": [
        "# Visualizing the missing values\n",
        "df[df['host_name'].isna()]"
      ],
      "metadata": {
        "id": "3q5wnI3om9sJ"
      },
      "execution_count": null,
      "outputs": []
    },
    {
      "cell_type": "code",
      "source": [
        "# Visualizing the missing values\n",
        "df[df['last_review'].isna()]"
      ],
      "metadata": {
        "id": "PX_ZMPmKpdV4"
      },
      "execution_count": null,
      "outputs": []
    },
    {
      "cell_type": "markdown",
      "source": [
        "### What did you know about your dataset?"
      ],
      "metadata": {
        "id": "H0kj-8xxnORC"
      }
    },
    {
      "cell_type": "markdown",
      "source": [
        "The Dataset contains details of all the airbnb units in New York City. \n",
        "<br> It has a total of 48895 entries with various types information about the unit distributed over 16 columns. The Dataset size is 6 MB and variables are stored in 3 main datatypes:\n",
        "* int64 - 7\n",
        "* float64 - 3\n",
        "* object - 6"
      ],
      "metadata": {
        "id": "gfoNAAC-nUe_"
      }
    },
    {
      "cell_type": "markdown",
      "source": [
        "## ***2. Understanding Your Variables*** done"
      ],
      "metadata": {
        "id": "nA9Y7ga8ng1Z"
      }
    },
    {
      "cell_type": "code",
      "source": [
        "# Dataset Columns\n",
        "df.columns"
      ],
      "metadata": {
        "id": "j7xfkqrt5Ag5"
      },
      "execution_count": null,
      "outputs": []
    },
    {
      "cell_type": "code",
      "source": [
        "# Dataset Describe\n",
        "df.describe()"
      ],
      "metadata": {
        "id": "DnOaZdaE5Q5t"
      },
      "execution_count": null,
      "outputs": []
    },
    {
      "cell_type": "markdown",
      "source": [
        "### Variables Description "
      ],
      "metadata": {
        "id": "PBTbrJXOngz2"
      }
    },
    {
      "cell_type": "markdown",
      "source": [
        "The 16 variables in the Dataset are:\n",
        "\n",
        "\n",
        "1. **ID** - Identification number given for the Airbnb unit.\n",
        "2. **name** - Name of the Airbnb unit.\n",
        "3. **host_id** - Unique identification number given to the host of the Airbnb unit.\n",
        "4. **host_name** - Name of the host.\n",
        "4. **neighbourhood_group** - Neighbourhood group to which the unit belongs to.\n",
        "5. **neighbourhood** - Neighbourhood to which the unit belongs to.\n",
        "6. **latitude** - Latitude of the unit.\n",
        "7. **longitude** - Longitude of the unit.\n",
        "8. **room_type** - Type of room.\n",
        "9. **price** - Price charged per night.\n",
        "10. **minimum_nights** - Minimum number of nights required to stay.\n",
        "11. **number_of_reviews** - Number of reviews recieved by the unit.\n",
        "12. **last_review** - Date of the last review.\n",
        "13. **reviews_per_month** - Ratio of reviews recieved by the unit per month.\n",
        "14. **calculated_host_listings_count** - Total number of listings by the host.\n",
        "15. **availability_365** - Availability of the unit in a year in days.\n",
        "\n"
      ],
      "metadata": {
        "id": "aJV4KIxSnxay"
      }
    },
    {
      "cell_type": "markdown",
      "source": [
        "### Check Unique Values for each variable."
      ],
      "metadata": {
        "id": "u3PMJOP6ngxN"
      }
    },
    {
      "cell_type": "code",
      "source": [
        "# Check Unique Values for each variable."
      ],
      "metadata": {
        "id": "zms12Yq5n-jE"
      },
      "execution_count": null,
      "outputs": []
    },
    {
      "cell_type": "code",
      "source": [
        "df['id'].unique()"
      ],
      "metadata": {
        "id": "LLt4CkUhzAey"
      },
      "execution_count": null,
      "outputs": []
    },
    {
      "cell_type": "code",
      "source": [
        "df['name'].unique()"
      ],
      "metadata": {
        "id": "Tzfo3ldlzFHb"
      },
      "execution_count": null,
      "outputs": []
    },
    {
      "cell_type": "code",
      "source": [
        "df['host_id'].unique()"
      ],
      "metadata": {
        "id": "hA28ZQtWzd0y"
      },
      "execution_count": null,
      "outputs": []
    },
    {
      "cell_type": "code",
      "source": [
        "df['host_name'].unique()"
      ],
      "metadata": {
        "id": "r_gb8DOtzdxv"
      },
      "execution_count": null,
      "outputs": []
    },
    {
      "cell_type": "code",
      "source": [
        "df['neighbourhood_group'].unique()"
      ],
      "metadata": {
        "id": "5O2HLkXZzdud"
      },
      "execution_count": null,
      "outputs": []
    },
    {
      "cell_type": "code",
      "source": [
        "df['neighbourhood'].unique()"
      ],
      "metadata": {
        "id": "GGxn9pgIzdrF"
      },
      "execution_count": null,
      "outputs": []
    },
    {
      "cell_type": "code",
      "source": [
        "df['room_type'].unique()"
      ],
      "metadata": {
        "id": "-Sji6iYRzMbp"
      },
      "execution_count": null,
      "outputs": []
    },
    {
      "cell_type": "code",
      "source": [
        "df['price'].unique()"
      ],
      "metadata": {
        "id": "7hMVSq3tzdnz"
      },
      "execution_count": null,
      "outputs": []
    },
    {
      "cell_type": "code",
      "source": [
        "df['minimum_nights'].unique()"
      ],
      "metadata": {
        "id": "kJQaZ8dmzzc7"
      },
      "execution_count": null,
      "outputs": []
    },
    {
      "cell_type": "code",
      "source": [
        "df['number_of_reviews'].unique()"
      ],
      "metadata": {
        "id": "4dX8oqLozzKD"
      },
      "execution_count": null,
      "outputs": []
    },
    {
      "cell_type": "code",
      "source": [
        "df['reviews_per_month'].unique()"
      ],
      "metadata": {
        "id": "AZeXoug4zzFm"
      },
      "execution_count": null,
      "outputs": []
    },
    {
      "cell_type": "code",
      "source": [
        "df['calculated_host_listings_count'].unique()"
      ],
      "metadata": {
        "id": "qaGx2ymizzBr"
      },
      "execution_count": null,
      "outputs": []
    },
    {
      "cell_type": "code",
      "source": [
        "df['availability_365'].unique()"
      ],
      "metadata": {
        "id": "njhq8lZT0GlL"
      },
      "execution_count": null,
      "outputs": []
    },
    {
      "cell_type": "markdown",
      "source": [
        "## 3. ***Data Wrangling*** done"
      ],
      "metadata": {
        "id": "dauF4eBmngu3"
      }
    },
    {
      "cell_type": "markdown",
      "source": [
        "### Data Wrangling Code"
      ],
      "metadata": {
        "id": "bKJF3rekwFvQ"
      }
    },
    {
      "cell_type": "code",
      "source": [
        "# Write your code to make your dataset analysis ready."
      ],
      "metadata": {
        "id": "wk-9a2fpoLcV"
      },
      "execution_count": null,
      "outputs": []
    },
    {
      "cell_type": "markdown",
      "source": [
        "### Replace all null values in *name* & *host_name* by room_type\n",
        "Instead of deleting 'name' and 'host_name' column, we can at least replace the null values by their room type"
      ],
      "metadata": {
        "id": "sriLlRWMBr7K"
      }
    },
    {
      "cell_type": "code",
      "source": [
        "# replace null names by room_type\n",
        "df['name'].fillna(df['room_type'],inplace=True)"
      ],
      "metadata": {
        "id": "4TBBuRaLeSRk"
      },
      "execution_count": null,
      "outputs": []
    },
    {
      "cell_type": "code",
      "source": [
        "# replace host names by room_type\n",
        "df['host_name'].fillna(df['room_type'],inplace=True)"
      ],
      "metadata": {
        "id": "-dA37jV0floc"
      },
      "execution_count": null,
      "outputs": []
    },
    {
      "cell_type": "code",
      "source": [
        "# checking null values\n",
        "df.isna().sum()"
      ],
      "metadata": {
        "id": "zlP99IAwfoFG"
      },
      "execution_count": null,
      "outputs": []
    },
    {
      "cell_type": "markdown",
      "source": [
        "### Droping *last_review* & replacing null values in *reviews_per_month* by zero\n",
        "We can drop 'last_review' column and we can replace null values in 'reviews_per_month' by 0"
      ],
      "metadata": {
        "id": "GGwrlfNtFiFk"
      }
    },
    {
      "cell_type": "code",
      "source": [
        "# dropping 'last review' column\n",
        "df.drop(['last_review'],axis=1,inplace=True)"
      ],
      "metadata": {
        "id": "wFOMuxJoGPGv"
      },
      "execution_count": null,
      "outputs": []
    },
    {
      "cell_type": "code",
      "source": [
        "# replacing null values in 'reviews per month' by 0\n",
        "df['reviews_per_month'].fillna(0,inplace=True)"
      ],
      "metadata": {
        "id": "ObrwDhj-GkDS"
      },
      "execution_count": null,
      "outputs": []
    },
    {
      "cell_type": "code",
      "source": [
        "# checking null values\n",
        "df.isna().sum()"
      ],
      "metadata": {
        "id": "0ResOMSIGsLM"
      },
      "execution_count": null,
      "outputs": []
    },
    {
      "cell_type": "markdown",
      "source": [
        "Therefore all null values are taken cared."
      ],
      "metadata": {
        "id": "Mj-t8q6UgVTh"
      }
    },
    {
      "cell_type": "markdown",
      "source": [
        "### Replacing price=0 by avg price of neighbour_grp \n",
        "We can observe that minimum price is 0 which can't b right, hence we are replacing those values by **average** price based on their 'neighbourhood_type'."
      ],
      "metadata": {
        "id": "iHW57f7FG1Fg"
      }
    },
    {
      "cell_type": "code",
      "source": [
        "df.describe()"
      ],
      "metadata": {
        "id": "Djbso_gYhPqR"
      },
      "execution_count": null,
      "outputs": []
    },
    {
      "cell_type": "code",
      "source": [
        "# get all rows eith price=0\n",
        "df[df['price'] == 0]"
      ],
      "metadata": {
        "id": "tpA31uYbGzQg"
      },
      "execution_count": null,
      "outputs": []
    },
    {
      "cell_type": "code",
      "source": [
        "avg_price_neighbourhood = pd.DataFrame(df.groupby(['neighbourhood_group'])['price'].mean())"
      ],
      "metadata": {
        "id": "3hbbW-U8KKcY"
      },
      "execution_count": null,
      "outputs": []
    },
    {
      "cell_type": "code",
      "source": [
        "avg_price_neighbourhood"
      ],
      "metadata": {
        "id": "Il86wPJLJVQl"
      },
      "execution_count": null,
      "outputs": []
    },
    {
      "cell_type": "code",
      "source": [
        "df['price'][(df['neighbourhood_group'] == 'Bronx') & (df['price'] == 0)] = 87.496792\n",
        "df['price'][(df['neighbourhood_group'] == 'Brooklyn') & (df['price'] == 0)] = 124.383207\n",
        "df['price'][(df['neighbourhood_group'] == 'Manhattan') & (df['price'] == 0)] = 196.875814"
      ],
      "metadata": {
        "id": "DA-GkkjVK3q-"
      },
      "execution_count": null,
      "outputs": []
    },
    {
      "cell_type": "code",
      "source": [
        "# checking again\n",
        "df[df['price'] == 0]"
      ],
      "metadata": {
        "id": "9vb1j7a__Ywt"
      },
      "execution_count": null,
      "outputs": []
    },
    {
      "cell_type": "code",
      "source": [
        "# Changing values of 'minimum_nights' to 365 which are greater than 365\n",
        "df['minimum_nights']=df['minimum_nights'].apply(lambda x: 365 if x>365 else x)"
      ],
      "metadata": {
        "id": "qaFxmbwFDz94"
      },
      "execution_count": null,
      "outputs": []
    },
    {
      "cell_type": "code",
      "source": [
        "df.describe()"
      ],
      "metadata": {
        "id": "9Tt4GEr4ETc7"
      },
      "execution_count": null,
      "outputs": []
    },
    {
      "cell_type": "markdown",
      "source": [
        "### What all manipulations have you done and insights you found?"
      ],
      "metadata": {
        "id": "MSa1f5Uengrz"
      }
    },
    {
      "cell_type": "markdown",
      "source": [
        "* Average price of an airbnb unit in NYC is **$152**.\n",
        "* Average minimum nigths set by the host is **7 days**.\n",
        "* Each unit gets at least **1 review** per month on an average.\n",
        "* The highest listing in NYC a single host has is **327**.\n",
        "* The most expensive Airbnb unit costs **10000 USD**.\n",
        "* min=0 for days 'availability_365' represents biz is closed / discontinued."
      ],
      "metadata": {
        "id": "LbyXE7I1olp8"
      }
    },
    {
      "cell_type": "markdown",
      "source": [
        "## ***4. Data Vizualization, Storytelling & Experimenting with charts : Understand the relationships between variables*** done"
      ],
      "metadata": {
        "id": "GF8Ens_Soomf"
      }
    },
    {
      "cell_type": "code",
      "source": [
        "sns.set(rc={'figure.figsize':(10,6)})"
      ],
      "metadata": {
        "id": "6O8m1GwTlC1m"
      },
      "execution_count": null,
      "outputs": []
    },
    {
      "cell_type": "markdown",
      "source": [
        "#### Chart - 1\n",
        "A bar plot comparing the number of Airbnb units by neighbourhood group."
      ],
      "metadata": {
        "id": "0wOQAZs5pc--"
      }
    },
    {
      "cell_type": "code",
      "source": [
        "# Chart - 1 visualization code\n",
        "# Creating a new dataframe neighbourhood_group_count to store number of airbnb units corresponding to the neighbourhood group.\n",
        "\n",
        "neighbourhood_group_count = pd.DataFrame(df.groupby(['neighbourhood_group'])['id'].count())\n",
        "neighbourhood_group_count.reset_index(inplace=True)\n",
        "neighbourhood_group_count.rename(columns={'id':'count'},inplace=True)\n",
        "neighbourhood_group_count"
      ],
      "metadata": {
        "id": "7v_ESjsspbW7"
      },
      "execution_count": null,
      "outputs": []
    },
    {
      "cell_type": "code",
      "source": [
        "# Plotting the chart using Seaborn\n",
        "neighbourhood_count = sns.barplot(x=neighbourhood_group_count['neighbourhood_group'],y=neighbourhood_group_count['count'])\n",
        "\n",
        "neighbourhood_count.set_title('Listings in Each Neighbourhood group')\n",
        "neighbourhood_count.set_xlabel('Neighbourhood Group')\n",
        "neighbourhood_count.set_ylabel('No. of Airbnb units')"
      ],
      "metadata": {
        "id": "u07A8KhDiuDc"
      },
      "execution_count": null,
      "outputs": []
    },
    {
      "cell_type": "markdown",
      "source": [
        "##### 1. Why did you pick the specific chart?"
      ],
      "metadata": {
        "id": "K5QZ13OEpz2H"
      }
    },
    {
      "cell_type": "markdown",
      "source": [
        "As the values in both x & y axes are not in series / continuous, the bar chart is the best option as details are displayed explicitly.\n",
        "\n"
      ],
      "metadata": {
        "id": "XESiWehPqBRc"
      }
    },
    {
      "cell_type": "markdown",
      "source": [
        "##### 2. What is/are the insight(s) found from the chart?"
      ],
      "metadata": {
        "id": "lQ7QKXXCp7Bj"
      }
    },
    {
      "cell_type": "markdown",
      "source": [
        "Out of the 5 neighbourhood groups, **Brooklyn & Manhattan** have way more units, at least 300% more units than the other 3 neighbourhood groups."
      ],
      "metadata": {
        "id": "C_j1G7yiqdRP"
      }
    },
    {
      "cell_type": "markdown",
      "source": [
        "##### 3. Will the gained insights help creating a positive business impact? \n",
        "Are there any insights that lead to negative growth? Justify with specific reason."
      ],
      "metadata": {
        "id": "448CDAPjqfQr"
      }
    },
    {
      "cell_type": "markdown",
      "source": [
        "Yes, the gained insights helps creating a positive business impact.\n",
        "\n",
        "As this is the first experiment from Airbnb, it is safer to stick with either of the top 2 neighbourhood group: **Brooklyn / Manhattan**."
      ],
      "metadata": {
        "id": "3cspy4FjqxJW"
      }
    },
    {
      "cell_type": "markdown",
      "source": [
        "#### Chart - 2\n",
        "A bar chart for neighbourhood group wise mean price and a box plot for all the price details."
      ],
      "metadata": {
        "id": "KSlN3yHqYklG"
      }
    },
    {
      "cell_type": "code",
      "source": [
        "# Chart - 2 visualization code\n",
        "# Creating a new dataframe neighbourhood_price_count to store the mean price corresponding to the neighbourhood group.\n",
        "\n",
        "neighbourhood_price_count = pd.DataFrame(df.groupby(['neighbourhood_group'])['price'].mean())\n",
        "neighbourhood_price_count.reset_index(inplace=True)\n",
        "neighbourhood_price_count.rename(columns={'price':'mean price'},inplace=True)\n",
        "neighbourhood_price_count"
      ],
      "metadata": {
        "id": "R4YgtaqtYklH"
      },
      "execution_count": null,
      "outputs": []
    },
    {
      "cell_type": "code",
      "source": [
        "# Plotting the chart using Seaborn\n",
        "neighbourhood_price = sns.barplot(x=neighbourhood_price_count['neighbourhood_group'],y=neighbourhood_price_count['mean price'])\n",
        "\n",
        "neighbourhood_price.set_title('Average price in Each Neighbourhood')\n",
        "neighbourhood_price.set_xlabel('Neighbourhood Group')\n",
        "neighbourhood_price.set_ylabel('Mean price')"
      ],
      "metadata": {
        "id": "ufFkx-udmh_z"
      },
      "execution_count": null,
      "outputs": []
    },
    {
      "cell_type": "code",
      "source": [
        "# Creating a new dataframe df_price_175 to store the dataframe values where 'price' is less than $175.\n",
        "df_price_175 = df[df['price']<175]\n",
        "\n",
        "# As 75% of column 'price' is less than $175, we have considered only that dataframe to get a more comprehensive boxplot. \n",
        "\n",
        "# Plotting a boxplot using Seaborn\n",
        "\n",
        "boxplot = sns.boxplot(y= 'price',x= 'neighbourhood_group',data=df_price_175)\n",
        "boxplot.set_title('Description of Price by Neighbourhood group')\n",
        "boxplot.set_xlabel('Neighbourhood Group')\n",
        "boxplot.set_ylabel('Price')"
      ],
      "metadata": {
        "id": "VJhmShlBr_E0"
      },
      "execution_count": null,
      "outputs": []
    },
    {
      "cell_type": "markdown",
      "source": [
        "##### 1. Why did you pick the specific chart?"
      ],
      "metadata": {
        "id": "t6dVpIINYklI"
      }
    },
    {
      "cell_type": "markdown",
      "source": [
        "The Box plot chart helps in getting an all-round view of price distribution across neighbourhood groups."
      ],
      "metadata": {
        "id": "5aaW0BYyYklI"
      }
    },
    {
      "cell_type": "markdown",
      "source": [
        "##### 2. What is/are the insight(s) found from the chart?"
      ],
      "metadata": {
        "id": "ijmpgYnKYklI"
      }
    },
    {
      "cell_type": "markdown",
      "source": [
        "The range is constant for all neighbourhood groups suggesting that, all neighbourhood groups cater to different types of guests according to their budget.\n",
        "Manhattan has the highest average price followed by Brooklyn. "
      ],
      "metadata": {
        "id": "PSx9atu2YklI"
      }
    },
    {
      "cell_type": "markdown",
      "source": [
        "##### 3. Will the gained insights help creating a positive business impact? \n",
        "Are there any insights that lead to negative growth? Justify with specific reason."
      ],
      "metadata": {
        "id": "-JiQyfWJYklI"
      }
    },
    {
      "cell_type": "markdown",
      "source": [
        "Yes, the gained insights helps creating a positive business impact.\n",
        "\n",
        "As all the tourist attractions in NYC are present mostly in Manhattan & Brooklyn, guests prefer to stay close to this proximity, which in-turn allows hosts to charge higher prices.<br>\n",
        "Hence Airbnb should look at investing in any of these 2 neighbourhood groups."
      ],
      "metadata": {
        "id": "BcBbebzrYklV"
      }
    },
    {
      "cell_type": "markdown",
      "source": [
        "#### Chart - 3\n",
        "A bar polt showing top 10 neighbourhoods by unit count."
      ],
      "metadata": {
        "id": "EM7whBJCYoAo"
      }
    },
    {
      "cell_type": "code",
      "source": [
        "# Chart - 3 visualization code\n",
        "# Creating a new dataframe top_neigbourhood to store number of airbnb units corresponding to the neighbourhood.\n",
        "\n",
        "top_neigbourhood = df.groupby(['neighbourhood'])['neighbourhood'].count()\n",
        "top_neigbourhood.sort_values(ascending=False,inplace=True)\n",
        "\n",
        "# Creating a new dataframe top_10_neighbourhood to store the top 10 neighbourhood by airbnb unit count.\n",
        "top_10_neighbourhood = top_neigbourhood.head(10)\n",
        "top_10_neighbourhood"
      ],
      "metadata": {
        "id": "t6GMdE67YoAp"
      },
      "execution_count": null,
      "outputs": []
    },
    {
      "cell_type": "code",
      "source": [
        "# Plotting the chart using Matplotlib\n",
        "top_10_neighbourhood.plot(kind='bar')\n",
        "\n",
        "plt.title('Listings in Each Neighbourhood')\n",
        "plt.xlabel('Neighbourhood')\n",
        "plt.ylabel('No. of Airbnb units')"
      ],
      "metadata": {
        "id": "93X6hdD4soJ1"
      },
      "execution_count": null,
      "outputs": []
    },
    {
      "cell_type": "markdown",
      "source": [
        "##### 1. Why did you pick the specific chart?"
      ],
      "metadata": {
        "id": "fge-S5ZAYoAp"
      }
    },
    {
      "cell_type": "markdown",
      "source": [
        "As the values in both x & y axes are not in series / continuous, the bar chart is the best option as details are displayed explicitly."
      ],
      "metadata": {
        "id": "5dBItgRVYoAp"
      }
    },
    {
      "cell_type": "markdown",
      "source": [
        "##### 2. What is/are the insight(s) found from the chart?"
      ],
      "metadata": {
        "id": "85gYPyotYoAp"
      }
    },
    {
      "cell_type": "markdown",
      "source": [
        "Williamsburg neighbouhood in Brooklyn has the highest number of Airbnb units. "
      ],
      "metadata": {
        "id": "4jstXR6OYoAp"
      }
    },
    {
      "cell_type": "markdown",
      "source": [
        "##### 3. Will the gained insights help creating a positive business impact? \n",
        "Are there any insights that lead to negative growth? Justify with specific reason."
      ],
      "metadata": {
        "id": "RoGjAbkUYoAp"
      }
    },
    {
      "cell_type": "markdown",
      "source": [
        "As these neighbourhoods are tried and tested over time, it would be the best for Airbnb to locate their hotel in any one of these top 10 neighbourhoods."
      ],
      "metadata": {
        "id": "zfJ8IqMcYoAp"
      }
    },
    {
      "cell_type": "markdown",
      "source": [
        "#### Chart - 4\n",
        "A bar plot showing top 10 cheapest neighbourhoods by average price."
      ],
      "metadata": {
        "id": "4Of9eVA-YrdM"
      }
    },
    {
      "cell_type": "code",
      "source": [
        "# Chart - 4 visualization code\n",
        "# Creating a new dataframe price_neigbourhood to store the mean price corresponding to the neighbourhood.\n",
        "\n",
        "price_neigbourhood = df[(df['neighbourhood_group'] == 'Brooklyn') | (df['neighbourhood_group'] == 'Manhattan') ]\n",
        "price_neigbourhood = df.groupby(['neighbourhood'])['price'].mean()\n",
        "price_neigbourhood.sort_values(ascending=False,inplace=True)\n",
        "\n",
        "# Creating a new dataframe top_10_neighbourhood to store the top 10 cheapest neighbourhood.\n",
        "price_10_neigbourhood = pd.DataFrame(price_neigbourhood.tail(10))\n",
        "price_10_neigbourhood.reset_index(inplace=True)\n",
        "price_10_neigbourhood"
      ],
      "metadata": {
        "id": "irlUoxc8YrdO"
      },
      "execution_count": null,
      "outputs": []
    },
    {
      "cell_type": "code",
      "source": [
        "# Plotting the chart using Seaborn\n",
        "price_10_neigbourhood_chart = sns.barplot(data=price_10_neigbourhood,x='neighbourhood',y='price')\n",
        "\n",
        "price_10_neigbourhood_chart.set_title('Average price in Each Neighbourhood')\n",
        "price_10_neigbourhood_chart.set_xlabel('Neighbourhood')\n",
        "price_10_neigbourhood_chart.set_ylabel('Price')\n",
        "\n",
        "# Rotate x-axis labels by 80 degrees\n",
        "price_10_neigbourhood_chart.set_xticklabels(price_10_neigbourhood_chart.get_xticklabels(), rotation=80);"
      ],
      "metadata": {
        "id": "7geFLA-0u2o9"
      },
      "execution_count": null,
      "outputs": []
    },
    {
      "cell_type": "markdown",
      "source": [
        "##### 1. Why did you pick the specific chart?"
      ],
      "metadata": {
        "id": "iky9q4vBYrdO"
      }
    },
    {
      "cell_type": "markdown",
      "source": [
        "As the values in both x & y axes are not in series / continuous, the bar chart is the best option as details are displayed explicitly."
      ],
      "metadata": {
        "id": "aJRCwT6DYrdO"
      }
    },
    {
      "cell_type": "markdown",
      "source": [
        "##### 2. What is/are the insight(s) found from the chart?"
      ],
      "metadata": {
        "id": "F6T5p64dYrdO"
      }
    },
    {
      "cell_type": "markdown",
      "source": [
        "The cheapest units have an average price ranging from USD 50-60."
      ],
      "metadata": {
        "id": "Xx8WAJvtYrdO"
      }
    },
    {
      "cell_type": "markdown",
      "source": [
        "##### 3. Will the gained insights help creating a positive business impact? \n",
        "Are there any insights that lead to negative growth? Justify with specific reason."
      ],
      "metadata": {
        "id": "y-Ehk30pYrdP"
      }
    },
    {
      "cell_type": "markdown",
      "source": [
        "If Airbnb is thinking of starting off with a small investment, the provided 10 neighbourhoods would be best suited as they have low land price, and therefore will be able to charge customers in range of USD 50-60."
      ],
      "metadata": {
        "id": "jLNxxz7MYrdP"
      }
    },
    {
      "cell_type": "markdown",
      "source": [
        "#### Chart - 5\n",
        "A Countplot showing the count of room type by neighbourhood group."
      ],
      "metadata": {
        "id": "bamQiAODYuh1"
      }
    },
    {
      "cell_type": "code",
      "source": [
        "# Chart - 5 visualization code\n",
        "# Plotting the chart using Seaborn\n",
        "room_type_count = sns.countplot(x=df['room_type'],hue=df['neighbourhood_group'])\n",
        "\n",
        "room_type_count.set_title('Count of room type by neighbourhood group')\n",
        "room_type_count.set_xlabel('Room type')\n",
        "room_type_count.set_ylabel('Count')"
      ],
      "metadata": {
        "id": "TIJwrbroYuh3"
      },
      "execution_count": null,
      "outputs": []
    },
    {
      "cell_type": "markdown",
      "source": [
        "##### 1. Why did you pick the specific chart?"
      ],
      "metadata": {
        "id": "QHF8YVU7Yuh3"
      }
    },
    {
      "cell_type": "markdown",
      "source": [
        "The Seaborn countplot is equipped to display the above chart with a single line of code. Hence for all count related plots, Seaborn countplot is preferred."
      ],
      "metadata": {
        "id": "dcxuIMRPYuh3"
      }
    },
    {
      "cell_type": "markdown",
      "source": [
        "##### 2. What is/are the insight(s) found from the chart?"
      ],
      "metadata": {
        "id": "GwzvFGzlYuh3"
      }
    },
    {
      "cell_type": "markdown",
      "source": [
        "There are more private rooms in Brooklyn whereas in Manhattan, more entire homes are let out. As Manhattan has more number of skyscrapers and apartments, we can see more homes being let out. In Brooklyn, there's more land area comparitively, hence we can see more single room, room type being let out. "
      ],
      "metadata": {
        "id": "uyqkiB8YYuh3"
      }
    },
    {
      "cell_type": "markdown",
      "source": [
        "##### 3. Will the gained insights help creating a positive business impact? \n",
        "Are there any insights that lead to negative growth? Justify with specific reason."
      ],
      "metadata": {
        "id": "qYpmQ266Yuh3"
      }
    },
    {
      "cell_type": "markdown",
      "source": [
        "If Airbnb has narrowed their choices to Brooklyn & Manhattan, it is best preferred to invest in an entire home if they're going with Manhattan / invest in a single room if they're going with Brooklyn."
      ],
      "metadata": {
        "id": "_WtzZ_hCYuh4"
      }
    },
    {
      "cell_type": "markdown",
      "source": [
        "#### Chart - 6\n",
        "A bar plot showing top 10 hosts on Airbnb."
      ],
      "metadata": {
        "id": "OH-pJp9IphqM"
      }
    },
    {
      "cell_type": "code",
      "source": [
        "# Chart - 6 visualization code\n",
        "# Creating a new dataframe top_10_hosts to store the top 10 hosts by airbnb unit count.\n",
        "\n",
        "top_10_hosts = pd.DataFrame(df['host_id'].value_counts().head(10))\n",
        "top_10_hosts"
      ],
      "metadata": {
        "id": "kuRf4wtuphqN"
      },
      "execution_count": null,
      "outputs": []
    },
    {
      "cell_type": "code",
      "source": [
        "# Plotting the chart using Matplotlib\n",
        "top_10_hosts.plot(kind='bar')\n",
        "\n",
        "plt.title('Hosts vs their Airbnb unit count')\n",
        "plt.xlabel('Hosts')\n",
        "plt.ylabel('No. of Airbnb units')"
      ],
      "metadata": {
        "id": "Dibr267oqjZc"
      },
      "execution_count": null,
      "outputs": []
    },
    {
      "cell_type": "markdown",
      "source": [
        "##### 1. Why did you pick the specific chart?"
      ],
      "metadata": {
        "id": "bbFf2-_FphqN"
      }
    },
    {
      "cell_type": "markdown",
      "source": [
        "As the values in both x & y axes are not in series / continuous, the bar chart is the best option as details are displayed explicitly."
      ],
      "metadata": {
        "id": "loh7H2nzphqN"
      }
    },
    {
      "cell_type": "markdown",
      "source": [
        "##### 2. What is/are the insight(s) found from the chart?"
      ],
      "metadata": {
        "id": "_ouA3fa0phqN"
      }
    },
    {
      "cell_type": "markdown",
      "source": [
        "The hosts are making big money with their spare homes/rooms, with Airbnb being #1 choice rather than renting out. The top host has a total of 327 properties making passive income for him/her in NYC."
      ],
      "metadata": {
        "id": "VECbqPI7phqN"
      }
    },
    {
      "cell_type": "markdown",
      "source": [
        "##### 3. Will the gained insights help creating a positive business impact? \n",
        "Are there any insights that lead to negative growth? Justify with specific reason."
      ],
      "metadata": {
        "id": "Seke61FWphqN"
      }
    },
    {
      "cell_type": "markdown",
      "source": [
        "These top 10 people know the game better than anybody else, therefore Airbnb can get any one of them as a consultant for their first investment."
      ],
      "metadata": {
        "id": "DW4_bGpfphqN"
      }
    },
    {
      "cell_type": "markdown",
      "source": [
        "#### Chart - 7\n",
        "A Scatter plot showing Airbnb unit availability vs their price."
      ],
      "metadata": {
        "id": "PIIx-8_IphqN"
      }
    },
    {
      "cell_type": "code",
      "source": [
        "# Chart - 7 visualization code\n",
        "# Creating a dataframe availability_price_df which contains only availability_365 & price from original dataframe.\n",
        "availability_price_df = df[['availability_365','price']]\n",
        "availability_price_df = availability_price_df[availability_price_df['availability_365'] !=0]\n",
        "\n",
        "# Plotting the chart using Seaborn\n",
        "scatter_plot = sns.scatterplot(data=availability_price_df,x='availability_365',y='price')\n",
        "\n",
        "scatter_plot.set_title('Units available in 365 days vs their price')\n",
        "scatter_plot.set_xlabel('Availability 365 days')\n",
        "scatter_plot.set_ylabel('Price')"
      ],
      "metadata": {
        "id": "lqAIGUfyphqO"
      },
      "execution_count": null,
      "outputs": []
    },
    {
      "cell_type": "markdown",
      "source": [
        "##### 1. Why did you pick the specific chart?"
      ],
      "metadata": {
        "id": "t27r6nlMphqO"
      }
    },
    {
      "cell_type": "markdown",
      "source": [
        "A Seaborn scatter plot enables us to visualize each entry in the dataframe, thereby giving us a complete picture, taking all entries into consideration."
      ],
      "metadata": {
        "id": "iv6ro40sphqO"
      }
    },
    {
      "cell_type": "markdown",
      "source": [
        "##### 2. What is/are the insight(s) found from the chart?"
      ],
      "metadata": {
        "id": "r2jJGEOYphqO"
      }
    },
    {
      "cell_type": "markdown",
      "source": [
        "The luxury segment i.e price > $4000 a night rooms are avialable throughout the year."
      ],
      "metadata": {
        "id": "Po6ZPi4hphqO"
      }
    },
    {
      "cell_type": "markdown",
      "source": [
        "##### 3. Will the gained insights help creating a positive business impact? \n",
        "Are there any insights that lead to negative growth? Justify with specific reason."
      ],
      "metadata": {
        "id": "b0JNsNcRphqO"
      }
    },
    {
      "cell_type": "markdown",
      "source": [
        "If Airbnb is targeting the luxury segment, they have to make sure to be available 365 days a year. These properties are empty most of the year & make their money back in short amount of time due to high pricing. <br>\n",
        "As this *short booked time* solely depends on the guest and their booking date requirements, it's vital for them to stay open 365 days."
      ],
      "metadata": {
        "id": "xvSq8iUTphqO"
      }
    },
    {
      "cell_type": "markdown",
      "source": [
        "#### Chart - 8\n",
        "A Scatter plot to check how pricing affects number of reviews."
      ],
      "metadata": {
        "id": "BZR9WyysphqO"
      }
    },
    {
      "cell_type": "code",
      "source": [
        "# Chart - 8 visualization code\n",
        "# Creating a dataframe reviews_price_df which contains only number_of_reviews & price from original dataframe.\n",
        "reviews_price_df = df[['number_of_reviews','price']]\n",
        "\n",
        "# Consider only those of price less than $2000 for more comprehensive plot.\n",
        "reviews_price_df = reviews_price_df[reviews_price_df['price']<2000]\n",
        "\n",
        "# Plotting the chart using Seaborn\n",
        "scatter_plot2 = sns.scatterplot(data=reviews_price_df,y='number_of_reviews',x='price')\n",
        "\n",
        "scatter_plot2.set_title('Price vs No. of Reviews')\n",
        "scatter_plot2.set_xlabel('Price')\n",
        "scatter_plot2.set_ylabel('No. of Reviews')"
      ],
      "metadata": {
        "id": "TdPTWpAVphqO"
      },
      "execution_count": null,
      "outputs": []
    },
    {
      "cell_type": "markdown",
      "source": [
        "##### 1. Why did you pick the specific chart?"
      ],
      "metadata": {
        "id": "jj7wYXLtphqO"
      }
    },
    {
      "cell_type": "markdown",
      "source": [
        "A Seaborn scatter plot enables us to visualize each entry in the dataframe, thereby giving us a complete picture, taking all entries into consideration."
      ],
      "metadata": {
        "id": "Ob8u6rCTphqO"
      }
    },
    {
      "cell_type": "markdown",
      "source": [
        "##### 2. What is/are the insight(s) found from the chart?"
      ],
      "metadata": {
        "id": "eZrbJ2SmphqO"
      }
    },
    {
      "cell_type": "markdown",
      "source": [
        "As the price increases, the number of reviews reduces. But also, most individuals would not be able to afford the higher price.<br>\n",
        "And there can be 2 resasons when a property has got more number of reviews than average. It must be so good that people want to recommend to others, or their experience was so bad, they want people to not pick this unit."
      ],
      "metadata": {
        "id": "mZtgC_hjphqO"
      }
    },
    {
      "cell_type": "markdown",
      "source": [
        "##### 3. Will the gained insights help creating a positive business impact? \n",
        "Are there any insights that lead to negative growth? Justify with specific reason."
      ],
      "metadata": {
        "id": "rFu4xreNphqO"
      }
    },
    {
      "cell_type": "markdown",
      "source": [
        "Yes, if Airbnb is planning in the luxury niche, they have to be on point as there's not much reviews and they've got to make sure every review they get is positive."
      ],
      "metadata": {
        "id": "ey_0qi68phqO"
      }
    },
    {
      "cell_type": "markdown",
      "source": [
        "#### Chart - 9\n",
        "A Distplot checking the density of Minimum nights."
      ],
      "metadata": {
        "id": "YJ55k-q6phqO"
      }
    },
    {
      "cell_type": "code",
      "source": [
        "# Chart - 9 visualization code\n",
        "# Plotting the chart using Seaborn\n",
        "minrt = pd.DataFrame(df[['minimum_nights','room_type']].groupby('room_type')['minimum_nights'].mean())\n",
        "\n",
        "minrt.plot(kind='bar')\n",
        "plt.title('Minimum no.of nights distribution')\n",
        "plt.xlabel('Minimum Nights')"
      ],
      "metadata": {
        "id": "B2aS4O1ophqO"
      },
      "execution_count": null,
      "outputs": []
    },
    {
      "cell_type": "markdown",
      "source": [
        "##### 1. Why did you pick the specific chart?"
      ],
      "metadata": {
        "id": "gCFgpxoyphqP"
      }
    },
    {
      "cell_type": "markdown",
      "source": [
        "As the values in both x & y axes are not in series / continuous, the bar chart is the best option as details are displayed explicitly."
      ],
      "metadata": {
        "id": "TVxDimi2phqP"
      }
    },
    {
      "cell_type": "markdown",
      "source": [
        "##### 2. What is/are the insight(s) found from the chart?"
      ],
      "metadata": {
        "id": "OVtJsKN_phqQ"
      }
    },
    {
      "cell_type": "markdown",
      "source": [
        "The minimum number of nights set by the host for \"Entire home/apt\" is 8 days on average. The average minimum number of nights for 'Private rooms' and 'Shared room' is ~ 5 days on average."
      ],
      "metadata": {
        "id": "ngGi97qjphqQ"
      }
    },
    {
      "cell_type": "markdown",
      "source": [
        "##### 3. Will the gained insights help creating a positive business impact? \n",
        "Are there any insights that lead to negative growth? Justify with specific reason."
      ],
      "metadata": {
        "id": "lssrdh5qphqQ"
      }
    },
    {
      "cell_type": "markdown",
      "source": [
        "To give the customer full flexibility, it is better to set the minimum number of nights to 1. <br>\n",
        "If the home/room is theme based, For ex: Christmas getaway, the minimum number of nights can be set to 7 days."
      ],
      "metadata": {
        "id": "tBpY5ekJphqQ"
      }
    },
    {
      "cell_type": "markdown",
      "source": [
        "#### Chart - 10 - Correlation Heatmap"
      ],
      "metadata": {
        "id": "NC_X3p0fY2L0"
      }
    },
    {
      "cell_type": "code",
      "source": [
        "# Correlation Heatmap visualization code\n",
        "# Creating a new dataframe corr_df to store correlation data of df.\n",
        "corr_df = df.corr()\n",
        "corr_df"
      ],
      "metadata": {
        "id": "xyC9zolEZNRQ"
      },
      "execution_count": null,
      "outputs": []
    },
    {
      "cell_type": "code",
      "source": [
        "# Plotting the Heatmap using Seaborn\n",
        "sns.heatmap(corr_df)"
      ],
      "metadata": {
        "id": "999pNVWu8Xc-"
      },
      "execution_count": null,
      "outputs": []
    },
    {
      "cell_type": "markdown",
      "source": [
        "##### 1. Why did you pick the specific chart?"
      ],
      "metadata": {
        "id": "UV0SzAkaZNRQ"
      }
    },
    {
      "cell_type": "markdown",
      "source": [
        "Correlation plots are used to understand which variables are related to each other and the strength of this relationship."
      ],
      "metadata": {
        "id": "DVPuT8LYZNRQ"
      }
    },
    {
      "cell_type": "markdown",
      "source": [
        "#### Chart - 11 - Pair Plot "
      ],
      "metadata": {
        "id": "q29F0dvdveiT"
      }
    },
    {
      "cell_type": "code",
      "source": [
        "# Pair Plot visualization code\n",
        "# Plotting the Pairplot using Seaborn\n",
        "\n",
        "sns.pairplot(df)"
      ],
      "metadata": {
        "id": "o58-TEIhveiU"
      },
      "execution_count": null,
      "outputs": []
    },
    {
      "cell_type": "markdown",
      "source": [
        "## **5. Solution to Business Objective**"
      ],
      "metadata": {
        "id": "JcMwzZxoAimU"
      }
    },
    {
      "cell_type": "markdown",
      "source": [
        "#### What do you suggest the client to achieve Business Objective ? \n",
        "Explain Briefly."
      ],
      "metadata": {
        "id": "8G2x9gOozGDZ"
      }
    },
    {
      "cell_type": "markdown",
      "source": [
        "Answer Here."
      ],
      "metadata": {
        "id": "pASKb0qOza21"
      }
    },
    {
      "cell_type": "markdown",
      "source": [
        "# **Conclusion**"
      ],
      "metadata": {
        "id": "gCX9965dhzqZ"
      }
    },
    {
      "cell_type": "markdown",
      "source": [
        "Write the conclusion here."
      ],
      "metadata": {
        "id": "Fjb1IsQkh3yE"
      }
    },
    {
      "cell_type": "markdown",
      "source": [
        "### ***Hurrah! You have successfully completed your EDA Capstone Project !!!***"
      ],
      "metadata": {
        "id": "gIfDvo9L0UH2"
      }
    }
  ]
}